{
  "nbformat": 4,
  "nbformat_minor": 0,
  "metadata": {
    "colab": {
      "provenance": []
    },
    "kernelspec": {
      "name": "python3",
      "display_name": "Python 3"
    },
    "language_info": {
      "name": "python"
    }
  },
  "cells": [
    {
      "cell_type": "code",
      "execution_count": null,
      "metadata": {
        "id": "JPaXwqpgs1qO"
      },
      "outputs": [],
      "source": [
        "import numpy as np"
      ]
    },
    {
      "cell_type": "code",
      "source": [
        "onehot_vector = np.identity(3)\n",
        "print(onehot_vector) #Identity\n",
        "print(onehot_vector[[0,1,0,2]]) # Rows 0,1,0,2"
      ],
      "metadata": {
        "colab": {
          "base_uri": "https://localhost:8080/"
        },
        "id": "SSsYMsBPs7hy",
        "outputId": "89ae456d-fd15-44c3-dfa8-8f1f1ca5ea9c"
      },
      "execution_count": null,
      "outputs": [
        {
          "output_type": "stream",
          "name": "stdout",
          "text": [
            "[[1. 0. 0.]\n",
            " [0. 1. 0.]\n",
            " [0. 0. 1.]]\n",
            "[[1. 0. 0.]\n",
            " [0. 1. 0.]\n",
            " [1. 0. 0.]\n",
            " [0. 0. 1.]]\n"
          ]
        }
      ]
    },
    {
      "cell_type": "markdown",
      "source": [
        "La CMM è una struttura dati che permette di associare coppie di input-output usando una matrice di correlazione come meccanismo di memoria. Si tratta di una matrice che registra, in forma di pesi, le relazioni tra input (ad esempio, una sequenza di parole) e output attesi (ad esempio, la parola successiva nella sequenza). Questo è particolarmente utile per applicazioni in cui bisogna \"ricordare\" delle transizioni o associazioni.\n",
        "\n",
        "Come funziona la CMM?\n",
        "Creazione dei Vettori One-Hot: I simboli (parole) sono rappresentati come vettori one-hot, in cui ciascun vettore ha tutti valori nulli tranne un 1 in corrispondenza della parola specifica.\n",
        "\n",
        "Costruzione della CMM: La matrice CMM viene costruita tramite il prodotto esterno di ciascuna sequenza di input (trasformata in un vettore concatenato) con il vettore one-hot che rappresenta la parola successiva attesa."
      ],
      "metadata": {
        "id": "FQe_xRRsuHgz"
      }
    },
    {
      "cell_type": "code",
      "source": [
        "symbols = [\"a\",\"b\",\"c\"]\n",
        "onehot_vectors = np.identity(len(symbols))\n",
        "len_seq = 3\n",
        "\n",
        "### a b a --> b\n",
        "### a a b --> a\n",
        "### a c b --> c\n",
        "### c a b --> a\n",
        "\n",
        "def i(symbol):\n",
        "    return symbols.index(symbol)\n",
        "\n",
        "def seq(s1,s2,s3):\n",
        "    return onehot_vectors[[i(s1),i(s2),i(s3)]].reshape(1,len(symbols)*len_seq) #Transform the vector in One-Hot vector, from 3x3 to 1x9\n",
        "\n",
        "#print(seq(\"a\",\"b\",\"a\"))\n",
        "\n",
        "CMM = np.matmul(np.transpose(seq(\"a\",\"b\",\"a\")),onehot_vectors[[i(\"b\")]]) +\\\n",
        "    np.matmul(np.transpose(seq(\"a\",\"a\",\"b\")),onehot_vectors[[i(\"a\")]]) +\\\n",
        "    np.matmul(np.transpose(seq(\"a\",\"c\",\"b\")),onehot_vectors[[i(\"c\")]]) +\\\n",
        "    np.matmul(np.transpose(seq(\"c\",\"a\",\"b\")),onehot_vectors[[i(\"a\")]])\n",
        "\n",
        "#print(CMM)\n",
        "\n",
        "(s1,s2,s3) = (\"a\",\"b\",\"a\")\n",
        "out = np.matmul(seq(s1,s2,s3),CMM)\n",
        "\n",
        "print(out)\n",
        "print(\"Sequence\" + str((s1,s2,s3)) + \" --> predicted symbol --> \" +  symbols[np.argmax(out)])"
      ],
      "metadata": {
        "colab": {
          "base_uri": "https://localhost:8080/"
        },
        "id": "SwZ1tLcztVbt",
        "outputId": "e41dca60-d8b8-49a9-d10f-a2592078f41c"
      },
      "execution_count": null,
      "outputs": [
        {
          "output_type": "stream",
          "name": "stdout",
          "text": [
            "[[1. 3. 1.]]\n",
            "Sequence('a', 'b', 'a') --> predicted symbol --> b\n"
          ]
        }
      ]
    },
    {
      "cell_type": "code",
      "source": [
        "from numpy.random import normal\n",
        "\n",
        "symbols = [\"a\",\"b\",\"c\",\"d\",\"e\",\"f\",\"g\"]\n",
        "pairs = [(\"a\",\"a\"),(\"b\",\"c\"),(\"d\",\"f\"),(\"e\",\"f\"),(\"f\",\"d\")] #Defining key-value associations"
      ],
      "metadata": {
        "id": "PF-xtVXL4EN1"
      },
      "execution_count": 6,
      "outputs": []
    },
    {
      "cell_type": "code",
      "source": [
        "d = 100 #Dimension\n",
        "dist_vecs = normal(0, 1.0/np.sqrt(d), (len(symbols), d)) #Matrix 7x100 (7 symbols)\n",
        "CMM = np.zeros((d, d))"
      ],
      "metadata": {
        "id": "1TVDiEHL4W5q"
      },
      "execution_count": 7,
      "outputs": []
    },
    {
      "cell_type": "code",
      "source": [
        "for (k,v) in pairs:\n",
        "  #Dist_vecs[i(k)] ci da un vettore che descrive k in dim: (1,d)\n",
        "\n",
        "    CMM = CMM + np.matmul(np.transpose([dist_vecs[i(k)]]), [dist_vecs[i(v)]])\n",
        "  #Scalar product between k and w, so we are injecting information in CMM"
      ],
      "metadata": {
        "id": "gDNGhtdc4jkg"
      },
      "execution_count": 8,
      "outputs": []
    },
    {
      "cell_type": "code",
      "source": [
        "succ = 0.0\n",
        "for (k,v) in pairs:\n",
        "    pred_v = np.matmul([dist_vecs[i(k)]], CMM) #(1,d) * (d,d) = (1,d)\n",
        "    #Questo ci dice come il simbolo k si relaziona con tutte le\n",
        "    #Associazioni memorizzate. Ora però se rimoltiplico per i vettori, ottengo\n",
        "    #Un punteggio per ogni vettore.\n",
        "    #(1,d) * (len(symbols),d)^T = (1, len(symbols)) Maxarg, è il migliore.\n",
        "    pred_v = symbols[np.argmax(np.matmul(np.matmul([dist_vecs[i(k)]], CMM), np.transpose(dist_vecs)))]\n",
        "    if pred_v == v:\n",
        "        succ += 1.0\n",
        "print(succ / len(pairs))"
      ],
      "metadata": {
        "colab": {
          "base_uri": "https://localhost:8080/"
        },
        "id": "GM9i7_Qh4soE",
        "outputId": "93649f82-9ab5-4ad1-e779-f1a3f4ebaf32"
      },
      "execution_count": 12,
      "outputs": [
        {
          "output_type": "stream",
          "name": "stdout",
          "text": [
            "1.0\n"
          ]
        }
      ]
    }
  ]
}