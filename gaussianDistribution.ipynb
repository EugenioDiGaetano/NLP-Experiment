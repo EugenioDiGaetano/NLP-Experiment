{
 "nbformat": 4,
 "nbformat_minor": 0,
 "metadata": {
  "colab": {
   "provenance": []
  },
  "kernelspec": {
   "name": "python3",
   "display_name": "Python 3"
  },
  "language_info": {
   "name": "python"
  }
 },
 "cells": [
  {
   "cell_type": "code",
   "execution_count": null,
   "metadata": {
    "id": "NZPV6f3sprHi",
    "is_executing": true
   },
   "outputs": [],
   "source": [
    "from numpy.random import normal\n",
    "import numpy as np\n",
    "\n",
    "d = 8000 #Dimensione vettore\n",
    "v1 = normal(0, 1.0 / np.sqrt(d), d)\n",
    "v2 = normal(0, 1.0 / np.sqrt(d), d) #Genero 2 vettori con media 0 e dv. std. sqrt(q)"
   ]
  },
  {
   "cell_type": "markdown",
   "source": [
    "Crea una lista dots che registra 1000 prodotti scalari tra coppie di vettori casuali. Ogni prodotto scalare misura quanto i vettori siano orientati l'uno rispetto all'altro (se sono ortogonali o no)."
   ],
   "metadata": {
    "id": "uPaZ-cpcqR3Z"
   }
  },
  {
   "cell_type": "code",
   "source": [
    "dots = []\n",
    "for i in range(1000):\n",
    "    v1 = normal(0, 1.0 / np.sqrt(d), d)\n",
    "    v2 = normal(0, 1.0 / np.sqrt(d), d)\n",
    "    dots.append(np.dot(v1, v2))"
   ],
   "metadata": {
    "id": "KINQ1e-CqBo4"
   },
   "execution_count": 6,
   "outputs": []
  },
  {
   "cell_type": "code",
   "source": [
    "import matplotlib.pyplot as plt"
   ],
   "metadata": {
    "id": "u2qOkTfiqbNi"
   },
   "execution_count": 7,
   "outputs": []
  },
  {
   "cell_type": "markdown",
   "source": [
    " In spazi ad alta dimensione, i vettori casuali tendono ad essere quasi ortogonali tra loro, quindi ci si aspetta che i prodotti scalari siano vicini a zero."
   ],
   "metadata": {
    "id": "tegOnnUkqimw"
   }
  },
  {
   "cell_type": "code",
   "source": [
    "plt.hist(dots, 30, density=True)\n",
    "plt.show()"
   ],
   "metadata": {
    "colab": {
     "base_uri": "https://localhost:8080/",
     "height": 433
    },
    "id": "yvIAICt6qX4r",
    "outputId": "68ba397e-158f-4816-c349-2e673767995f"
   },
   "execution_count": 8,
   "outputs": [
    {
     "output_type": "display_data",
     "data": {
      "text/plain": [
       "<Figure size 640x480 with 1 Axes>"
      ],
      "image/png": "[encoded data removed]"
     },
     "metadata": {}
    }
   ]
  },
  {
   "cell_type": "markdown",
   "source": [
    "## Verifica della correlazione con un insieme di vettori"
   ],
   "metadata": {
    "id": "vPhjrms0qnOs"
   }
  },
  {
   "cell_type": "code",
   "source": [
    "d = 4000\n",
    "V = []\n",
    "epsilon = 0.05"
   ],
   "metadata": {
    "id": "Jqnbje9Bqrjp"
   },
   "execution_count": 9,
   "outputs": []
  },
  {
   "cell_type": "markdown",
   "source": [
    "La funzione check_vector verifica se un vettore v è accettabile confrontandolo con i vettori in V. Se il prodotto scalare tra v e qualsiasi altro vettore in V è maggiore di epsilon, v non è accettato (cioè non è sufficientemente \"ortogonale\" rispetto ai vettori già presenti in V)."
   ],
   "metadata": {
    "id": "uqt9v4lvq0Np"
   }
  },
  {
   "cell_type": "code",
   "source": [
    "def check_vector(v, V, eps):\n",
    "    accept = True\n",
    "    for v1 in V:\n",
    "        if np.dot(v1, v) > eps:\n",
    "            accept = False\n",
    "    return accept"
   ],
   "metadata": {
    "id": "MisqTudAqtGO"
   },
   "execution_count": 11,
   "outputs": []
  },
  {
   "cell_type": "code",
   "source": [
    "for i in range(1000):\n",
    "    a = normal(0, 1.0 / np.sqrt(d), d)\n",
    "    if check_vector(a, V, epsilon):\n",
    "        V.append(a)"
   ],
   "metadata": {
    "id": "eB1U6LBQrJhb"
   },
   "execution_count": 12,
   "outputs": []
  },
  {
   "cell_type": "code",
   "source": [
    "print(len(V))"
   ],
   "metadata": {
    "colab": {
     "base_uri": "https://localhost:8080/"
    },
    "id": "U1CjnCugrRUS",
    "outputId": "b3fcc1bf-d3ff-4ad9-cb08-2efb81618cc8"
   },
   "execution_count": 13,
   "outputs": [
    {
     "output_type": "stream",
     "name": "stdout",
     "text": [
      "737\n"
     ]
    }
   ]
  }
 ]
}
