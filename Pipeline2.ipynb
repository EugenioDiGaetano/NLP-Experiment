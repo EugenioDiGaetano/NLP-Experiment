{
 "cells": [
  {
   "cell_type": "markdown",
   "metadata": {},
   "source": [
    "### Installare le dipendenze"
   ]
  },
  {
   "cell_type": "code",
   "execution_count": null,
   "metadata": {},
   "outputs": [],
   "source": [
    "%pip install --quiet sonar-space seaborn pandas"
   ]
  },
  {
   "cell_type": "markdown",
   "metadata": {},
   "source": [
    "Caricamento dei modelli Sonar"
   ]
  },
  {
   "cell_type": "code",
   "execution_count": null,
   "metadata": {},
   "outputs": [],
   "source": [
    "import torch\n",
    "\n",
    "from sonar.inference_pipelines.text import (\n",
    "    TextToEmbeddingModelPipeline,\n",
    "    TextToTextModelPipeline,\n",
    ")"
   ]
  },
  {
   "cell_type": "markdown",
   "metadata": {},
   "source": [
    "Inizializzazione dei modelli tramite Pipeline"
   ]
  },
  {
   "cell_type": "code",
   "execution_count": null,
   "metadata": {},
   "outputs": [],
   "source": [
    "text2vec = TextToEmbeddingModelPipeline(\n",
    "    encoder=\"text_sonar_basic_encoder\", tokenizer=\"text_sonar_basic_encoder\"\n",
    ")\n",
    "text2text = TextToTextModelPipeline(\n",
    "    encoder=\"text_sonar_basic_encoder\",\n",
    "    decoder=\"text_sonar_basic_decoder\",\n",
    "    tokenizer=\"text_sonar_basic_encoder\",\n",
    ")  "
   ]
  },
  {
   "cell_type": "markdown",
   "metadata": {},
   "source": [
    " Definizione delle frasi"
   ]
  },
  {
   "cell_type": "code",
   "execution_count": null,
   "metadata": {},
   "outputs": [],
   "source": [
    "italian_verses = [\n",
    "    \"Nel mezzo del cammin di nostra vita\",\n",
    "    \"Mi ritrovai per una selva oscura\",\n",
    "    \"Che la diritta via era smarrita.\",\n",
    "    \"Ahi quanto a dir qual era è cosa dura\",\n",
    "    \"Esta selva selvaggia e aspra e forte\",\n",
    "    \"Che nel pensier rinova la paura!\",\n",
    "    \"Tant'era amara che poco è più morte\",\n",
    "    \"Ma per trattar del ben ch'i' vi trovai\",\n",
    "    \"Dirò de l'altre cose ch'i' v'ho scorte.\"\n",
    "]\n",
    "\n",
    "english_verses = [\n",
    "    \"Midway upon the journey of our life\",\n",
    "    \"I found myself within a forest dark\",\n",
    "    \"For the straightforward pathway had been lost.\",\n",
    "    \"Ah me! how hard a thing it is to say\",\n",
    "    \"What was this forest savage, rough, and stern\",\n",
    "    \"Which in the very thought renews the fear.\",\n",
    "    \"So bitter is it, death is little more.\",\n",
    "    \"But of the good to treat which there I found\",\n",
    "    \"Speak will I of the other things I saw there.\"\n",
    "]"
   ]
  },
  {
   "cell_type": "markdown",
   "metadata": {},
   "source": [
    "Ottenere embeddings per le frasi"
   ]
  },
  {
   "cell_type": "code",
   "execution_count": null,
   "metadata": {},
   "outputs": [],
   "source": [
    "#Converte il testo italiano in un embedding vettoriale\n",
    "output_ita = text2vec.predict(italian_verses, source_lang=\"ita_Latn\")\n",
    "embed_italian = torch.nn.functional.normalize(output_ita, dim=-1).numpy()\n",
    "\n",
    "#Converte il testo inglese in un embedding vettoriale\n",
    "output_eng = text2vec.predict(english_verses, source_lang=\"eng_Latn\")\n",
    "embed_english = torch.nn.functional.normalize(output_eng, dim=-1).numpy()"
   ]
  },
  {
   "cell_type": "markdown",
   "metadata": {},
   "source": [
    "Calcolo della similarità tra frasi tramite il coseno e visualizzazione tramite heatmap"
   ]
  },
  {
   "cell_type": "code",
   "execution_count": null,
   "metadata": {},
   "outputs": [],
   "source": [
    "#!pip install seaborn pandas\n",
    "import pandas as pd\n",
    "import seaborn as sns\n",
    "\n",
    "#similarità tramite coseno\n",
    "cos_sim = embed_italian.dot(embed_english.T)\n",
    "\n",
    "#conversione della similarità in una tabella\n",
    "sim_df = pd.DataFrame(cos_sim, columns=english_verses, index=italian_verses)\n",
    "\n",
    "#visualizzazione similarità: Blu intenso[Alta similarità coseno (~1.0)], Bianco[Similarità neutra (~0.0)], Rosso intenso[Similarità negativa (~-1.0)]\n",
    "plt.figure(figsize=(10, 8))\n",
    "sns.heatmap(sim_df, cmap=\"vlag\", annot=True, fmt=\".2f\", linewidths=0.5)\n",
    "plt.title(\"Cosine Similarity: Divina Commedia (Italiano ↔ Inglese)\")\n",
    "plt.xlabel(\"Versi in Inglese\")\n",
    "plt.ylabel(\"Versi in Italiano\")\n",
    "plt.show()"
   ]
  },
  {
   "cell_type": "markdown",
   "metadata": {},
   "source": [
    "Traduzione delle frasi con Sonar"
   ]
  },
  {
   "cell_type": "code",
   "execution_count": null,
   "metadata": {},
   "outputs": [],
   "source": [
    "inglese_tradotto = text2text.predict(italian_verses, source_lang=\"ita_Latn\", target_lang=\"eng_Latn\")\n",
    "italiano_tradotto = text2text.predict(english_verses, source_lang=\"eng_Latn\", target_lang=\"ita_Latn\")"
   ]
  },
  {
   "cell_type": "markdown",
   "metadata": {},
   "source": [
    "Valutazione della qualità della traduzione con BLEU score (Bilingual Evaluation Understudy) \n",
    "Il BLEU score è compreso tra 0 e 100 (ma di solito è sotto 50). 1-10 (Traduzione molto scarsa), 10-30(Traduzione accettabile ma con molti errori), 30-50(Buona qualità, ma non perfetta), 50(Ottima qualità, vicina a una traduzione umana)"
   ]
  },
  {
   "cell_type": "code",
   "execution_count": null,
   "metadata": {},
   "outputs": [],
   "source": [
    "import sacrebleu\n",
    "\n",
    "# Calcolo BLEU score\n",
    "bleu_ita_to_eng = sacrebleu.corpus_bleu(inglese_tradotto, [english_verses], tokenize=\"flores200\")\n",
    "bleu_eng_to_ita = sacrebleu.corpus_bleu(italiano_tradotto, [italian_verses], tokenize=\"flores200\")\n",
    "\n",
    "# Stampa dei risultati\n",
    "print(\"*\" * 100)\n",
    "print(\"Italiano → Inglese BLEU score:\")\n",
    "print(bleu_ita_to_eng)\n",
    "print(\"*\" * 100)\n",
    "print(\"Inglese → Italiano BLEU score:\")\n",
    "print(bleu_eng_to_ita)"
   ]
  }
 ],
 "metadata": {
  "kernelspec": {
   "display_name": "sonar2",
   "language": "python",
   "name": "python3"
  },
  "language_info": {
   "codemirror_mode": {
    "name": "ipython",
    "version": 3
   },
   "file_extension": ".py",
   "mimetype": "text/x-python",
   "name": "python",
   "nbconvert_exporter": "python",
   "pygments_lexer": "ipython3",
   "version": "3.8.17"
  },
  "orig_nbformat": 4
 },
 "nbformat": 4,
 "nbformat_minor": 2
}
