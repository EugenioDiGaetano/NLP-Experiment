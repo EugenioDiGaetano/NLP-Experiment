import pandas as pd

def cyk_parser(grammar, string):
    """
    CYK Parser for a string using a given grammar in Chomsky Normal Form (CNF).
    
    :param grammar: Dictionary representing the grammar in CNF. 
                    Keys are non-terminal symbols, values are sets of right-hand sides.
                    Example: {'S': {('NP', 'VP')}, 'NP': {('Det', 'N')}, 'VP': {('V', 'NP')}, 'Det': {'the'}, 'N': {'dog'}, 'V': {'saw'}}
    :param string: The input string to be parsed.
    
    :return: True if the string is derivable from the start symbol, False otherwise.
    """
    n = len(string)
    P = [[set() for _ in range(n)] for _ in range(n)]
    
    # Step 1: Initialize the table for single characters
    for i in range(n):
        char = string[i]
        for non_terminal, rules in grammar.items():
            if char in rules:
                P[i][i].add(non_terminal)

    # Step 2: Fill the table for substrings of length 2 and above
    for length in range(2, n+1):  # length of the substring
        for i in range(n-length+1):  # starting position of the substring
            j = i + length - 1  # ending position of the substring
            for k in range(i, j):  # split the substring into two parts
                for non_terminal, rules in grammar.items():
                    for rule in rules:
                        if len(rule) == 2:  # A -> BC
                            B, C = rule
                            if B in P[i][k] and C in P[k+1][j]:
                                P[i][j].add(non_terminal)
    print(P)  # Display table P
    df = pd.DataFrame(P)
    display(df)

    # Step 3: Check if the start symbol can generate the entire string
    start_symbol = 'S'  # Adjust this based on your grammar
    return start_symbol in P[0][n-1]

# Updated grammar in CNF
grammar = {
    'S': {('X', 'VP')},
    'S': {('Det', 'X')},
    'S': {('Det', 'N')},

    'X': {('Det', 'N')},
    'VP': {('V', 'X')},
    'Det': {'il', "the"},
    'N': {'cane'},
    'V': {'vede'}
}

# Example string
string = "il cane"

# Running the CYK parser
if cyk_parser(grammar, string.split()):
    print(f"The string '{string}' is accepted by the grammar.")
else:
    print(f"The string '{string}' is not accepted by the grammar.")
