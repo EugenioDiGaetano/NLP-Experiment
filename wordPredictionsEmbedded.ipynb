{
  "nbformat": 4,
  "nbformat_minor": 0,
  "metadata": {
    "colab": {
      "provenance": [],
      "include_colab_link": true
    },
    "kernelspec": {
      "name": "python3",
      "display_name": "Python 3"
    },
    "language_info": {
      "name": "python"
    }
  },
  "cells": [
    {
      "cell_type": "markdown",
      "metadata": {
        "id": "view-in-github",
        "colab_type": "text"
      },
      "source": [
        "<a href=\"https://colab.research.google.com/github/EugenioDiGaetano/NLP-Experiment/blob/main/wordPredictionsEmbedded.ipynb\" target=\"_parent\"><img src=\"https://colab.research.google.com/assets/colab-badge.svg\" alt=\"Open In Colab\"/></a>"
      ]
    },
    {
      "cell_type": "markdown",
      "source": [
        "\n",
        "\n",
        "```\n",
        "# Inizializzazione\n",
        "```\n",
        "\n"
      ],
      "metadata": {
        "id": "9XKCO93o3zFE"
      }
    },
    {
      "cell_type": "code",
      "execution_count": 30,
      "metadata": {
        "id": "k7IzT6E13Hzz",
        "colab": {
          "base_uri": "https://localhost:8080/"
        },
        "outputId": "6ebbb9d0-83a1-4a25-f13d-8d318e2f986c"
      },
      "outputs": [
        {
          "output_type": "stream",
          "name": "stdout",
          "text": [
            "torch.Size([12, 19])\n",
            "tensor(4)\n",
            "tensor(5)\n",
            "tensor(6)\n",
            "tensor(7)\n",
            "tensor(8)\n",
            "tensor(9)\n",
            "tensor(10)\n",
            "tensor(11)\n",
            "tensor(12)\n",
            "tensor(13)\n",
            "tensor(14)\n",
            "tensor(15)\n",
            "tensor(16)\n",
            "tensor(17)\n",
            "tensor(18)\n",
            "['nel', 'mezzo', 'del', 'cammin', 'di', 'nostra', 'vita', 'mi', 'ritrovai', 'per', 'una', 'selva', 'oscura', 'ché', 'la', 'diritta', 'via', 'era', 'smarrita']\n"
          ]
        }
      ],
      "source": [
        "import torch\n",
        "\n",
        "# Simboli estratti dall'incipit della Divina Commedia\n",
        "symbols = [\"nel\", \"mezzo\", \"del\", \"cammin\", \"di\", \"nostra\", \"vita\",\n",
        "           \"mi\", \"ritrovai\", \"per\", \"una\", \"selva\", \"oscura\",\n",
        "           \"ché\", \"la\", \"diritta\", \"via\", \"era\", \"smarrita\"]\n",
        "\n",
        "# Creazione dei vettori one-hot\n",
        "onehot_vectors = torch.eye(len(symbols))  # Matrice 14x14\n",
        "#print (onehot_vectors.shape)\n",
        "\n",
        "\n",
        "# Funzione per ottenere l'indice del simbolo\n",
        "def i(symbol):\n",
        "    return symbols.index(symbol)\n",
        "\n",
        "# Parametri per la riduzione dimensionale\n",
        "d = len(symbols)  # Dimensione originale (numero di simboli)\n",
        "k = 3  # Dimensione ridotta\n",
        "n = len(symbols)  # Numero di simboli\n",
        "len_seq = 4\n",
        "\n",
        "# Creazione della matrice di proiezione casuale per Johnson-Lindenstrauss\n",
        "A = torch.randn(k, d) / torch.sqrt(torch.tensor(d, dtype=torch.float32))  # Proiezione con normalizzazione\n",
        "#print (A.shape)\n",
        "# Funzione per creare una sequenza one-hot concatenata\n",
        "def seq(s1, s2, s3, s4):\n",
        "    # Ottieni i vettori one-hot dei simboli\n",
        "    one_hot = onehot_vectors[[i(s1), i(s2), i(s3), i(s4)]]\n",
        "    # Proietta nello spazio ridotto con la matrice di proiezione\n",
        "    reduced_seq = torch.matmul(one_hot, A.T).reshape(1, k*len_seq)  # Riduce la dimensione\n",
        "    return reduced_seq\n",
        "\n",
        "# Costruzione della matrice CMM (modificata con proiezione)\n",
        "CMM = torch.matmul(seq(\"nel\", \"mezzo\", \"del\", \"cammin\").T, onehot_vectors[[i(\"di\")]]) +\\\n",
        "      torch.matmul(seq(\"mezzo\", \"del\", \"cammin\", \"di\").T, onehot_vectors[[i(\"nostra\")]]) +\\\n",
        "      torch.matmul(seq(\"del\", \"cammin\", \"di\", \"nostra\").T, onehot_vectors[[i(\"vita\")]]) +\\\n",
        "      torch.matmul(seq(\"cammin\", \"di\", \"nostra\", \"vita\").T, onehot_vectors[[i(\"mi\")]]) +\\\n",
        "      torch.matmul(seq(\"di\", \"nostra\", \"vita\", \"mi\").T, onehot_vectors[[i(\"ritrovai\")]]) +\\\n",
        "      torch.matmul(seq(\"nostra\", \"vita\", \"mi\", \"ritrovai\").T, onehot_vectors[[i(\"per\")]]) +\\\n",
        "      torch.matmul(seq(\"vita\", \"mi\", \"ritrovai\", \"per\").T, onehot_vectors[[i(\"una\")]]) +\\\n",
        "      torch.matmul(seq(\"mi\", \"ritrovai\", \"per\", \"una\").T, onehot_vectors[[i(\"selva\")]]) +\\\n",
        "      torch.matmul(seq(\"ritrovai\", \"per\", \"una\", \"selva\").T, onehot_vectors[[i(\"oscura\")]]) +\\\n",
        "      torch.matmul(seq(\"per\", \"una\", \"selva\", \"oscura\").T, onehot_vectors[[i(\"ché\")]]) +\\\n",
        "      torch.matmul(seq(\"una\", \"selva\", \"oscura\", \"ché\").T, onehot_vectors[[i(\"la\")]]) +\\\n",
        "      torch.matmul(seq(\"selva\", \"oscura\", \"ché\", \"la\").T, onehot_vectors[[i(\"diritta\")]]) +\\\n",
        "      torch.matmul(seq(\"oscura\", \"ché\", \"la\", \"diritta\").T, onehot_vectors[[i(\"via\")]]) +\\\n",
        "      torch.matmul(seq(\"ché\", \"la\", \"diritta\", \"via\").T, onehot_vectors[[i(\"era\")]]) +\\\n",
        "      torch.matmul(seq(\"la\", \"diritta\", \"via\", \"era\").T, onehot_vectors[[i(\"smarrita\")]])\n",
        "\n",
        "print(CMM.shape)\n",
        "# Predizione basata sul modello CMM\n",
        "(s1, s2, s3, s4) = (\"nel\", \"mezzo\", \"del\", \"cammin\")\n",
        "out = torch.matmul(seq(s1, s2, s3, s4), CMM)\n",
        "predict_symb = symbols[torch.argmax(out)]\n",
        "\n",
        "# Previsione iterativa\n",
        "predicted_word = [s1, s2, s3, s4]\n",
        "kkk=0\n",
        "while True:\n",
        "    out = torch.matmul(seq(s1, s2, s3, s4), CMM)\n",
        "    s1, s2, s3 = s2, s3, s4\n",
        "    s4 = symbols[torch.argmax(out)]\n",
        "    kkk=kkk+1\n",
        "    # Aggiungi la previsione alla lista\n",
        "    predicted_word.append(s4)\n",
        "    print (torch.argmax(out))\n",
        "    # Se la previsione è un simbolo finale, fermati\n",
        "    #if s4 == \"smarrita\":\n",
        "    if kkk==15:\n",
        "        break\n",
        "\n",
        "print(predicted_word)\n"
      ]
    },
    {
      "cell_type": "markdown",
      "source": [],
      "metadata": {
        "id": "UgviaH_b3w0C"
      }
    },
    {
      "cell_type": "markdown",
      "source": [],
      "metadata": {
        "id": "p-d0ioAV33fo"
      }
    }
  ]
}