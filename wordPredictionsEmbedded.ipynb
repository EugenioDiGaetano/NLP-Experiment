{
  "nbformat": 4,
  "nbformat_minor": 0,
  "metadata": {
    "colab": {
      "provenance": [],
      "include_colab_link": true
    },
    "kernelspec": {
      "name": "python3",
      "display_name": "Python 3"
    },
    "language_info": {
      "name": "python"
    }
  },
  "cells": [
    {
      "cell_type": "markdown",
      "metadata": {
        "id": "view-in-github",
        "colab_type": "text"
      },
      "source": [
        "<a href=\"https://colab.research.google.com/github/EugenioDiGaetano/NLP-Experiment/blob/main/wordPredictionsEmbedded.ipynb\" target=\"_parent\"><img src=\"https://colab.research.google.com/assets/colab-badge.svg\" alt=\"Open In Colab\"/></a>"
      ]
    },
    {
      "cell_type": "code",
      "execution_count": 38,
      "metadata": {
        "colab": {
          "base_uri": "https://localhost:8080/"
        },
        "id": "k7IzT6E13Hzz",
        "outputId": "844976f6-a722-4614-bc2f-e8533e102d91"
      },
      "outputs": [
        {
          "output_type": "stream",
          "name": "stdout",
          "text": [
            "torch.Size([19, 19])\n",
            "torch.Size([4, 19])\n",
            "CMM shape:  torch.Size([16, 19])\n",
            "['nel', 'mezzo', 'del', 'cammin', 'di', 'nostra', 'vita', 'mi', 'ritrovai', 'per', 'una', 'selva', 'oscura', 'ché', 'la', 'diritta', 'via', 'era', 'smarrita']\n"
          ]
        }
      ],
      "source": [
        "import torch\n",
        "import math\n",
        "\n",
        "# Imposta il seed per la riproducibilità\n",
        "torch.manual_seed(42)\n",
        "\n",
        "# Simboli estratti dall'incipit della Divina Commedia\n",
        "symbols = [\"nel\", \"mezzo\", \"del\", \"cammin\", \"di\", \"nostra\", \"vita\",\n",
        "           \"mi\", \"ritrovai\", \"per\", \"una\", \"selva\", \"oscura\",\n",
        "           \"ché\", \"la\", \"diritta\", \"via\", \"era\", \"smarrita\"]\n",
        "\n",
        "# Creazione dei vettori one-hot\n",
        "onehot_vectors = torch.eye(len(symbols))  # Matrice 14x14\n",
        "\n",
        "print (onehot_vectors.shape)\n",
        "# Funzione per ottenere l'indice del simbolo\n",
        "def i(symbol):\n",
        "    return symbols.index(symbol)\n",
        "\n",
        "# Parametri per la riduzione dimensionale\n",
        "d = len(symbols)  # Dimensione originale (numero di simboli)\n",
        "k = 4  # Dimensione ridotta\n",
        "n = len(symbols)  # Numero di simboli\n",
        "len_seq = 4\n",
        "# Creazione della matrice di proiezione casuale per Johnson-Lindenstrauss\n",
        "# Calcolo Varianza\n",
        "std_dev = 1 / math.sqrt(d)\n",
        "W = torch.normal(0,std_dev, size=(k,d))\n",
        "\n",
        "print (W.shape)\n",
        "# Funzione per creare una sequenza one-hot concatenata\n",
        "def seq(s1, s2, s3, s4):\n",
        "    # Ottieni i vettori one-hot dei simboli\n",
        "    one_hot = onehot_vectors[[i(s1), i(s2), i(s3), i(s4)]]\n",
        "    # Proietta nello spazio ridotto con la matrice di proiezione\n",
        "    reduced_seq = torch.matmul(one_hot, W.T).reshape(1, k*len_seq)  # Riduce la dimensione\n",
        "    return reduced_seq\n",
        "\n",
        "# Costruzione della matrice CMM (modificata con proiezione)\n",
        "CMM = torch.matmul(seq(\"nel\", \"mezzo\", \"del\", \"cammin\").T, onehot_vectors[[i(\"di\")]]) +\\\n",
        "      torch.matmul(seq(\"mezzo\", \"del\", \"cammin\", \"di\").T, onehot_vectors[[i(\"nostra\")]]) +\\\n",
        "      torch.matmul(seq(\"del\", \"cammin\", \"di\", \"nostra\").T, onehot_vectors[[i(\"vita\")]]) +\\\n",
        "      torch.matmul(seq(\"cammin\", \"di\", \"nostra\", \"vita\").T, onehot_vectors[[i(\"mi\")]]) +\\\n",
        "      torch.matmul(seq(\"di\", \"nostra\", \"vita\", \"mi\").T, onehot_vectors[[i(\"ritrovai\")]]) +\\\n",
        "      torch.matmul(seq(\"nostra\", \"vita\", \"mi\", \"ritrovai\").T, onehot_vectors[[i(\"per\")]]) +\\\n",
        "      torch.matmul(seq(\"vita\", \"mi\", \"ritrovai\", \"per\").T, onehot_vectors[[i(\"una\")]]) +\\\n",
        "      torch.matmul(seq(\"mi\", \"ritrovai\", \"per\", \"una\").T, onehot_vectors[[i(\"selva\")]]) +\\\n",
        "      torch.matmul(seq(\"ritrovai\", \"per\", \"una\", \"selva\").T, onehot_vectors[[i(\"oscura\")]]) +\\\n",
        "      torch.matmul(seq(\"per\", \"una\", \"selva\", \"oscura\").T, onehot_vectors[[i(\"ché\")]]) +\\\n",
        "      torch.matmul(seq(\"una\", \"selva\", \"oscura\", \"ché\").T, onehot_vectors[[i(\"la\")]]) +\\\n",
        "      torch.matmul(seq(\"selva\", \"oscura\", \"ché\", \"la\").T, onehot_vectors[[i(\"diritta\")]]) +\\\n",
        "      torch.matmul(seq(\"oscura\", \"ché\", \"la\", \"diritta\").T, onehot_vectors[[i(\"via\")]]) +\\\n",
        "      torch.matmul(seq(\"ché\", \"la\", \"diritta\", \"via\").T, onehot_vectors[[i(\"era\")]]) +\\\n",
        "      torch.matmul(seq(\"la\", \"diritta\", \"via\", \"era\").T, onehot_vectors[[i(\"smarrita\")]])\n",
        "\n",
        "print(\"CMM shape: \", CMM.shape)\n",
        "# Predizione basata sul modello CMM\n",
        "(s1, s2, s3, s4) = (\"nel\", \"mezzo\", \"del\", \"cammin\")\n",
        "out = torch.matmul(seq(s1, s2, s3, s4), CMM)\n",
        "predict_symb = symbols[torch.argmax(out)]\n",
        "\n",
        "# Previsione iterativa\n",
        "predicted_word = [s1, s2, s3, s4]\n",
        "j=0\n",
        "while True:\n",
        "    out = torch.matmul(seq(s1, s2, s3, s4), CMM)\n",
        "    s1, s2, s3 = s2, s3, s4\n",
        "    s4 = symbols[torch.argmax(out)]\n",
        "    j=j+1\n",
        "    # Aggiungi la previsione alla lista\n",
        "    predicted_word.append(s4)\n",
        "    probs = torch.softmax(out, dim=-1)\n",
        "\n",
        "    #print (probs*100)\n",
        "\n",
        "    # Se la previsione è un simbolo finale, fermati\n",
        "    if j==15:\n",
        "        break\n",
        "\n",
        "print(predicted_word)"
      ]
    },
    {
      "cell_type": "code",
      "source": [],
      "metadata": {
        "id": "zj3l4ko46zxv"
      },
      "execution_count": null,
      "outputs": []
    }
  ]
}